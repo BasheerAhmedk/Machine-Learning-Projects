{
  "nbformat": 4,
  "nbformat_minor": 0,
  "metadata": {
    "colab": {
      "provenance": [],
      "authorship_tag": "ABX9TyMCqWFBLh/8Ey2DpDZr7iAN",
      "include_colab_link": true
    },
    "kernelspec": {
      "name": "python3",
      "display_name": "Python 3"
    },
    "language_info": {
      "name": "python"
    }
  },
  "cells": [
    {
      "cell_type": "markdown",
      "metadata": {
        "id": "view-in-github",
        "colab_type": "text"
      },
      "source": [
        "<a href=\"https://colab.research.google.com/github/BasheerAhmedk/Machine-Learning-Projects/blob/main/Tensorflow.ipynb\" target=\"_parent\"><img src=\"https://colab.research.google.com/assets/colab-badge.svg\" alt=\"Open In Colab\"/></a>"
      ]
    },
    {
      "cell_type": "code",
      "execution_count": null,
      "metadata": {
        "id": "t4s7xYKQ5xjd"
      },
      "outputs": [],
      "source": [
        "import tensorflow as tf\n",
        "from tensorflow import keras\n",
        "import matplotlib.pyplot as plt\n",
        "import numpy as np"
      ]
    },
    {
      "cell_type": "code",
      "source": [
        "mnist = keras.datasets.mnist\n",
        "(x_train_full, y_train_full),(x_test, y_test) = mnist.load_data()"
      ],
      "metadata": {
        "colab": {
          "base_uri": "https://localhost:8080/"
        },
        "id": "0qa2NQ8U9lkG",
        "outputId": "8643418e-1bcd-46df-ed77-6ae05e4456ab"
      },
      "execution_count": null,
      "outputs": [
        {
          "output_type": "stream",
          "name": "stdout",
          "text": [
            "Downloading data from https://storage.googleapis.com/tensorflow/tf-keras-datasets/mnist.npz\n",
            "11490434/11490434 [==============================] - 0s 0us/step\n"
          ]
        }
      ]
    },
    {
      "cell_type": "code",
      "source": [
        "plt.imshow(x_train_full[2])"
      ],
      "metadata": {
        "colab": {
          "base_uri": "https://localhost:8080/",
          "height": 448
        },
        "id": "rH_g85ZQ9sMW",
        "outputId": "aa5492f4-a8d3-459d-f6b7-b623026a9d1d"
      },
      "execution_count": null,
      "outputs": [
        {
          "output_type": "execute_result",
          "data": {
            "text/plain": [
              "<matplotlib.image.AxesImage at 0x79d61997be20>"
            ]
          },
          "metadata": {},
          "execution_count": 3
        },
        {
          "output_type": "display_data",
          "data": {
            "text/plain": [
              "<Figure size 640x480 with 1 Axes>"
            ],
            "image/png": "[encoded data removed]"
          },
          "metadata": {}
        }
      ]
    },
    {
      "cell_type": "code",
      "source": [
        "x_train_norm = x_train_full/255.\n",
        "x_test_norm = x_test/255.\n",
        "x_valid, x_train = x_train_norm[:5000], x_train_norm[5000:]\n",
        "y_valid, y_train = y_train_full[:5000], y_train_full[5000:]\n",
        "x_test = x_test_norm\n",
        "np.random.seed(42)\n",
        "tf.random.set_seed(42)\n",
        "model = keras.models.Sequential()\n",
        "model.add(keras.layers.Flatten(input_shape=[28,28]))\n",
        "model.add(keras.layers.Dense(300, activation=\"relu\"))\n",
        "model.add(keras.layers.Dense(100, activation=\"relu\"))\n",
        "model.add(keras.layers.Dense(10, activation=\"softmax\"))\n",
        "model.compile(loss=\"sparse_categorical_crossentropy\",\n",
        "              optimizer=\"sgd\",\n",
        "              metrics=[\"accuracy\"])\n",
        "model_history = model.fit(x_train,y_train,epochs=30,validation_data=(x_valid,y_valid))"
      ],
      "metadata": {
        "colab": {
          "base_uri": "https://localhost:8080/"
        },
        "id": "WFeqTPfG9zju",
        "outputId": "578da848-b6ca-452e-e051-650e7698176e"
      },
      "execution_count": null,
      "outputs": [
        {
          "output_type": "stream",
          "name": "stdout",
          "text": [
            "Epoch 1/30\n",
            "1719/1719 [==============================] - 10s 5ms/step - loss: 0.6314 - accuracy: 0.8324 - val_loss: 0.3152 - val_accuracy: 0.9114\n",
            "Epoch 2/30\n",
            "1719/1719 [==============================] - 9s 5ms/step - loss: 0.2908 - accuracy: 0.9172 - val_loss: 0.2479 - val_accuracy: 0.9312\n",
            "Epoch 3/30\n",
            "1719/1719 [==============================] - 8s 5ms/step - loss: 0.2377 - accuracy: 0.9323 - val_loss: 0.2058 - val_accuracy: 0.9406\n",
            "Epoch 4/30\n",
            "1719/1719 [==============================] - 9s 5ms/step - loss: 0.2029 - accuracy: 0.9420 - val_loss: 0.1822 - val_accuracy: 0.9488\n",
            "Epoch 5/30\n",
            "1719/1719 [==============================] - 13s 8ms/step - loss: 0.1769 - accuracy: 0.9496 - val_loss: 0.1613 - val_accuracy: 0.9540\n",
            "Epoch 6/30\n",
            "1719/1719 [==============================] - 9s 5ms/step - loss: 0.1567 - accuracy: 0.9557 - val_loss: 0.1474 - val_accuracy: 0.9570\n",
            "Epoch 7/30\n",
            "1719/1719 [==============================] - 8s 5ms/step - loss: 0.1403 - accuracy: 0.9605 - val_loss: 0.1349 - val_accuracy: 0.9620\n",
            "Epoch 8/30\n",
            "1719/1719 [==============================] - 10s 6ms/step - loss: 0.1269 - accuracy: 0.9636 - val_loss: 0.1298 - val_accuracy: 0.9636\n",
            "Epoch 9/30\n",
            "1719/1719 [==============================] - 9s 5ms/step - loss: 0.1153 - accuracy: 0.9674 - val_loss: 0.1185 - val_accuracy: 0.9678\n",
            "Epoch 10/30\n",
            "1719/1719 [==============================] - 8s 4ms/step - loss: 0.1061 - accuracy: 0.9697 - val_loss: 0.1095 - val_accuracy: 0.9694\n",
            "Epoch 11/30\n",
            "1719/1719 [==============================] - 9s 5ms/step - loss: 0.0971 - accuracy: 0.9733 - val_loss: 0.1056 - val_accuracy: 0.9712\n",
            "Epoch 12/30\n",
            "1719/1719 [==============================] - 9s 5ms/step - loss: 0.0898 - accuracy: 0.9749 - val_loss: 0.1018 - val_accuracy: 0.9712\n",
            "Epoch 13/30\n",
            "1719/1719 [==============================] - 8s 5ms/step - loss: 0.0833 - accuracy: 0.9765 - val_loss: 0.0963 - val_accuracy: 0.9726\n",
            "Epoch 14/30\n",
            "1719/1719 [==============================] - 9s 5ms/step - loss: 0.0771 - accuracy: 0.9784 - val_loss: 0.0944 - val_accuracy: 0.9732\n",
            "Epoch 15/30\n",
            "1719/1719 [==============================] - 9s 5ms/step - loss: 0.0718 - accuracy: 0.9804 - val_loss: 0.0890 - val_accuracy: 0.9730\n",
            "Epoch 16/30\n",
            "1719/1719 [==============================] - 8s 4ms/step - loss: 0.0668 - accuracy: 0.9818 - val_loss: 0.0877 - val_accuracy: 0.9746\n",
            "Epoch 17/30\n",
            "1719/1719 [==============================] - 9s 5ms/step - loss: 0.0625 - accuracy: 0.9828 - val_loss: 0.0840 - val_accuracy: 0.9758\n",
            "Epoch 18/30\n",
            "1719/1719 [==============================] - 9s 5ms/step - loss: 0.0586 - accuracy: 0.9843 - val_loss: 0.0832 - val_accuracy: 0.9760\n",
            "Epoch 19/30\n",
            "1719/1719 [==============================] - 8s 4ms/step - loss: 0.0549 - accuracy: 0.9850 - val_loss: 0.0811 - val_accuracy: 0.9770\n",
            "Epoch 20/30\n",
            "1719/1719 [==============================] - 10s 6ms/step - loss: 0.0514 - accuracy: 0.9860 - val_loss: 0.0808 - val_accuracy: 0.9756\n",
            "Epoch 21/30\n",
            "1719/1719 [==============================] - 8s 5ms/step - loss: 0.0483 - accuracy: 0.9871 - val_loss: 0.0761 - val_accuracy: 0.9780\n",
            "Epoch 22/30\n",
            "1719/1719 [==============================] - 8s 4ms/step - loss: 0.0454 - accuracy: 0.9882 - val_loss: 0.0776 - val_accuracy: 0.9780\n",
            "Epoch 23/30\n",
            "1719/1719 [==============================] - 9s 5ms/step - loss: 0.0427 - accuracy: 0.9890 - val_loss: 0.0780 - val_accuracy: 0.9778\n",
            "Epoch 24/30\n",
            "1719/1719 [==============================] - 9s 5ms/step - loss: 0.0401 - accuracy: 0.9899 - val_loss: 0.0758 - val_accuracy: 0.9788\n",
            "Epoch 25/30\n",
            "1719/1719 [==============================] - 7s 4ms/step - loss: 0.0379 - accuracy: 0.9903 - val_loss: 0.0738 - val_accuracy: 0.9778\n",
            "Epoch 26/30\n",
            "1719/1719 [==============================] - 9s 5ms/step - loss: 0.0354 - accuracy: 0.9911 - val_loss: 0.0709 - val_accuracy: 0.9804\n",
            "Epoch 27/30\n",
            "1719/1719 [==============================] - 9s 5ms/step - loss: 0.0335 - accuracy: 0.9915 - val_loss: 0.0699 - val_accuracy: 0.9810\n",
            "Epoch 28/30\n",
            "1719/1719 [==============================] - 8s 4ms/step - loss: 0.0318 - accuracy: 0.9922 - val_loss: 0.0721 - val_accuracy: 0.9784\n",
            "Epoch 29/30\n",
            "1719/1719 [==============================] - 9s 5ms/step - loss: 0.0297 - accuracy: 0.9931 - val_loss: 0.0713 - val_accuracy: 0.9800\n",
            "Epoch 30/30\n",
            "1719/1719 [==============================] - 9s 5ms/step - loss: 0.0281 - accuracy: 0.9937 - val_loss: 0.0711 - val_accuracy: 0.9788\n"
          ]
        }
      ]
    },
    {
      "cell_type": "code",
      "source": [
        "model.evaluate(x_test,y_test)"
      ],
      "metadata": {
        "colab": {
          "base_uri": "https://localhost:8080/"
        },
        "id": "15rkuR70_XfQ",
        "outputId": "60ae14b7-b2c4-4710-f648-0bcceefe92c0"
      },
      "execution_count": null,
      "outputs": [
        {
          "output_type": "stream",
          "name": "stdout",
          "text": [
            "313/313 [==============================] - 1s 4ms/step - loss: 0.0703 - accuracy: 0.9780\n"
          ]
        },
        {
          "output_type": "execute_result",
          "data": {
            "text/plain": [
              "[0.07030189782381058, 0.9779999852180481]"
            ]
          },
          "metadata": {},
          "execution_count": 5
        }
      ]
    },
    {
      "cell_type": "code",
      "source": [
        "x_sample = x_test[:5]\n",
        "y_probability = model.predict(x_sample)"
      ],
      "metadata": {
        "colab": {
          "base_uri": "https://localhost:8080/"
        },
        "id": "TxTpYq0A_cB-",
        "outputId": "842d2036-6bbf-4ddb-fca6-5a3489f1d65b"
      },
      "execution_count": null,
      "outputs": [
        {
          "output_type": "stream",
          "name": "stdout",
          "text": [
            "1/1 [==============================] - 0s 34ms/step\n"
          ]
        }
      ]
    },
    {
      "cell_type": "code",
      "source": [
        "y_probability.round()"
      ],
      "metadata": {
        "colab": {
          "base_uri": "https://localhost:8080/"
        },
        "id": "xM6_a-4r_d03",
        "outputId": "a5dc75ad-c65b-455a-e45b-3ae5b2018d99"
      },
      "execution_count": null,
      "outputs": [
        {
          "output_type": "execute_result",
          "data": {
            "text/plain": [
              "array([[0., 0., 0., 0., 0., 0., 0., 1., 0., 0.],\n",
              "       [0., 0., 1., 0., 0., 0., 0., 0., 0., 0.],\n",
              "       [0., 1., 0., 0., 0., 0., 0., 0., 0., 0.],\n",
              "       [1., 0., 0., 0., 0., 0., 0., 0., 0., 0.],\n",
              "       [0., 0., 0., 0., 1., 0., 0., 0., 0., 0.]], dtype=float32)"
            ]
          },
          "metadata": {},
          "execution_count": 9
        }
      ]
    },
    {
      "cell_type": "code",
      "source": [
        "y_predict = model.predict(x_sample)\n",
        "y_predict"
      ],
      "metadata": {
        "colab": {
          "base_uri": "https://localhost:8080/"
        },
        "id": "9ywgP8i1_gMm",
        "outputId": "5c619b85-4636-456b-cb9d-9d72e7205b6c"
      },
      "execution_count": null,
      "outputs": [
        {
          "output_type": "stream",
          "name": "stdout",
          "text": [
            "1/1 [==============================] - 0s 49ms/step\n"
          ]
        },
        {
          "output_type": "execute_result",
          "data": {
            "text/plain": [
              "array([[1.43726606e-06, 5.82258153e-08, 4.88204641e-05, 5.80312160e-04,\n",
              "        6.11427797e-09, 2.67720281e-07, 3.95059072e-12, 9.99340713e-01,\n",
              "        5.43383112e-06, 2.29535308e-05],\n",
              "       [2.81919313e-07, 3.73876574e-05, 9.99921918e-01, 3.71399656e-05,\n",
              "        1.17769318e-14, 2.92923062e-07, 1.28403201e-07, 4.07593853e-13,\n",
              "        2.84720295e-06, 2.87536481e-14],\n",
              "       [1.39682506e-05, 9.97114182e-01, 2.55285559e-04, 7.72549611e-05,\n",
              "        2.50583369e-04, 1.51779517e-04, 3.31507290e-05, 1.76731660e-03,\n",
              "        2.94800760e-04, 4.17242882e-05],\n",
              "       [9.99880075e-01, 4.18584591e-07, 8.39982313e-05, 1.23252926e-06,\n",
              "        1.33046196e-08, 3.50866844e-06, 1.44211581e-05, 1.14678742e-05,\n",
              "        2.27894548e-09, 4.84963402e-06],\n",
              "       [6.18048171e-06, 5.17714618e-08, 1.39803096e-05, 5.44411662e-08,\n",
              "        9.96517062e-01, 2.74770713e-07, 1.00447205e-05, 2.82713852e-04,\n",
              "        6.11437463e-06, 3.16359778e-03]], dtype=float32)"
            ]
          },
          "metadata": {},
          "execution_count": 11
        }
      ]
    },
    {
      "cell_type": "code",
      "source": [],
      "metadata": {
        "id": "b9QznJ24_nS2"
      },
      "execution_count": null,
      "outputs": []
    }
  ]
}